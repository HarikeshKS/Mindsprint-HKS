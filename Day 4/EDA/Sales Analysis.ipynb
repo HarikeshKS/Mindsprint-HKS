{
 "cells": [
  {
   "cell_type": "code",
   "execution_count": 1,
   "id": "90b60ef8-42e3-4593-b76d-a01754abd040",
   "metadata": {},
   "outputs": [],
   "source": [
    "import pandas as pd"
   ]
  },
  {
   "cell_type": "code",
   "execution_count": 2,
   "id": "8f10244c-e641-471b-8d1e-2aee5eecadb5",
   "metadata": {},
   "outputs": [],
   "source": [
    "df = pd.read_csv('store_data.csv')"
   ]
  },
  {
   "cell_type": "code",
   "execution_count": 3,
   "id": "caea7cb7-6af5-4ac5-9d7d-1207c32c025f",
   "metadata": {},
   "outputs": [
    {
     "name": "stdout",
     "output_type": "stream",
     "text": [
      "   Order_ID              Product      Category  Quantity  Price  Total_Amount  \\\n",
      "0      1001   Sony Ericsson W830          Sony         1  24477             0   \n",
      "1      1002         Huawei G7300        Huawei         2  14538             0   \n",
      "2      1003  Huawei Watch 2 2018        Huawei         2  20748             0   \n",
      "3      1004    BenQ-Siemens EF51  BenQ-Siemens         4   8786             0   \n",
      "4      1005       alcatel OT-206       alcatel         3  13031             0   \n",
      "\n",
      "         Date  \n",
      "0  18/10/2024  \n",
      "1  14/03/2024  \n",
      "2  13/06/2024  \n",
      "3  26/01/2025  \n",
      "4  09/04/2024  \n"
     ]
    }
   ],
   "source": [
    "print(df.head())"
   ]
  },
  {
   "cell_type": "code",
   "execution_count": 4,
   "id": "dbc6ab84-2812-47cc-b6f6-eecae7a8f7c8",
   "metadata": {},
   "outputs": [],
   "source": [
    "df.fillna(0, inplace=True)"
   ]
  },
  {
   "cell_type": "code",
   "execution_count": 5,
   "id": "6a434223-8e68-4b01-a6e9-c2966aa51295",
   "metadata": {},
   "outputs": [
    {
     "name": "stdout",
     "output_type": "stream",
     "text": [
      "   Order_ID              Product      Category  Quantity  Price  Total_Amount  \\\n",
      "0      1001   Sony Ericsson W830          Sony         1  24477         24477   \n",
      "1      1002         Huawei G7300        Huawei         2  14538         29076   \n",
      "2      1003  Huawei Watch 2 2018        Huawei         2  20748         41496   \n",
      "3      1004    BenQ-Siemens EF51  BenQ-Siemens         4   8786         35144   \n",
      "4      1005       alcatel OT-206       alcatel         3  13031         39093   \n",
      "\n",
      "         Date  \n",
      "0  18/10/2024  \n",
      "1  14/03/2024  \n",
      "2  13/06/2024  \n",
      "3  26/01/2025  \n",
      "4  09/04/2024  \n"
     ]
    }
   ],
   "source": [
    "df['Total_Amount'] = df['Quantity'] * df['Price']\n",
    "print(df.head())"
   ]
  },
  {
   "cell_type": "code",
   "execution_count": 6,
   "id": "63ba1126-1837-4789-a9fe-3e2af65fac1d",
   "metadata": {},
   "outputs": [
    {
     "name": "stdout",
     "output_type": "stream",
     "text": [
      "The most sold product is: Coolpad Cool 5\n"
     ]
    }
   ],
   "source": [
    "grouped_df = df.groupby('Product')['Quantity'].sum()\n",
    "most_sold_product = grouped_df.idxmax()\n",
    "print(f\"The most sold product is: {most_sold_product}\")"
   ]
  },
  {
   "cell_type": "code",
   "execution_count": 7,
   "id": "0999e156-9c52-4c8d-8ad2-6c050bd08904",
   "metadata": {},
   "outputs": [
    {
     "name": "stdout",
     "output_type": "stream",
     "text": [
      "Product\n",
      "BenQ-Siemens EF51          35144\n",
      "Celkon i4                  19616\n",
      "Coolpad Cool 5            111040\n",
      "Haier Z3000               104730\n",
      "Huawei G7300               29076\n",
      "Huawei Watch 2 2018        41496\n",
      "LG U310                    20812\n",
      "Philips X1560              31044\n",
      "Samsung Ativ Tab P8510     15622\n",
      "Samsung D800               63438\n",
      "Samsung Gravity Q T289     38952\n",
      "Samsung L760              117875\n",
      "Sony Ericsson W830         24477\n",
      "Sony Xperia S              41888\n",
      "Spice M-6 Sports           60836\n",
      "T-Mobile G2 Touch          26494\n",
      "Ulefone Armor X5 Pro       20514\n",
      "ZTE nubia My Prague        53493\n",
      "alcatel OT-206             39093\n",
      "vivo Y19                   10054\n",
      "Name: Total_Amount, dtype: int64\n"
     ]
    }
   ],
   "source": [
    "total_sales_per_product = df.groupby('Product')['Total_Amount'].sum()\n",
    "print(total_sales_per_product)"
   ]
  },
  {
   "cell_type": "code",
   "execution_count": 8,
   "id": "89f5d544-55e5-4c98-ac28-a9e058025dcf",
   "metadata": {},
   "outputs": [
    {
     "name": "stdout",
     "output_type": "stream",
     "text": [
      "    Order_ID                 Product      Category  Quantity  Price  \\\n",
      "0       1001      Sony Ericsson W830          Sony         1  24477   \n",
      "1       1002            Huawei G7300        Huawei         2  14538   \n",
      "2       1003     Huawei Watch 2 2018        Huawei         2  20748   \n",
      "3       1004       BenQ-Siemens EF51  BenQ-Siemens         4   8786   \n",
      "4       1005          alcatel OT-206       alcatel         3  13031   \n",
      "5       1006             Haier Z3000         Haier         5  20946   \n",
      "6       1007  Samsung Gravity Q T289       Samsung         2  19476   \n",
      "7       1008            Samsung D800       Samsung         3  21146   \n",
      "8       1009  Samsung Ativ Tab P8510       Samsung         1  15622   \n",
      "9       1010           Sony Xperia S          Sony         4  10472   \n",
      "10      1011       T-Mobile G2 Touch      T-Mobile         2  13247   \n",
      "11      1012           Philips X1560       Philips         4   7761   \n",
      "12      1013    Ulefone Armor X5 Pro       Ulefone         2  10257   \n",
      "13      1014          Coolpad Cool 5       Coolpad         5  22208   \n",
      "14      1015                vivo Y19          vivo         1  10054   \n",
      "15      1016               Celkon i4        Celkon         2   9808   \n",
      "16      1017            Samsung L760       Samsung         5  23575   \n",
      "17      1018                 LG U310            LG         2  10406   \n",
      "18      1019     ZTE nubia My Prague           ZTE         3  17831   \n",
      "19      1020        Spice M-6 Sports         Spice         4  15209   \n",
      "\n",
      "    Total_Amount        Date  \n",
      "0          24477  18/10/2024  \n",
      "1          29076  14/03/2024  \n",
      "2          41496  13/06/2024  \n",
      "3          35144  26/01/2025  \n",
      "4          39093  09/04/2024  \n",
      "5         104730  05/08/2024  \n",
      "6          38952  07/01/2025  \n",
      "7          63438  12/02/2025  \n",
      "8          15622  25/02/2024  \n",
      "9          41888  08/04/2024  \n",
      "10         26494  16/05/2024  \n",
      "11         31044  12/05/2024  \n",
      "12         20514  08/01/2025  \n",
      "13        111040  15/03/2024  \n",
      "14         10054  09/04/2024  \n",
      "15         19616  10/12/2024  \n",
      "16        117875  16/01/2025  \n",
      "17         20812  17/12/2024  \n",
      "18         53493  10/06/2024  \n",
      "19         60836  29/07/2024  \n"
     ]
    }
   ],
   "source": [
    "orders_above_500 = df[df['Total_Amount'] > 500]\n",
    "print(orders_above_500)"
   ]
  },
  {
   "cell_type": "code",
   "execution_count": 10,
   "id": "dd61926c-f051-4c87-9ef2-0f3d10957694",
   "metadata": {},
   "outputs": [
    {
     "name": "stdout",
     "output_type": "stream",
     "text": [
      "File created successfully\n"
     ]
    }
   ],
   "source": [
    "df.to_csv('new_store_data.csv', index=False)\n",
    "print(\"File created successfully\")"
   ]
  }
 ],
 "metadata": {
  "kernelspec": {
   "display_name": "Python 3 (ipykernel)",
   "language": "python",
   "name": "python3"
  },
  "language_info": {
   "codemirror_mode": {
    "name": "ipython",
    "version": 3
   },
   "file_extension": ".py",
   "mimetype": "text/x-python",
   "name": "python",
   "nbconvert_exporter": "python",
   "pygments_lexer": "ipython3",
   "version": "3.13.2"
  },
  "widgets": {
   "application/vnd.jupyter.widget-state+json": {
    "state": {},
    "version_major": 2,
    "version_minor": 0
   }
  }
 },
 "nbformat": 4,
 "nbformat_minor": 5
}
