{
 "cells": [
  {
   "cell_type": "code",
   "execution_count": 1,
   "id": "bed3273a-ffb9-4e16-bfb7-2a5a0b199866",
   "metadata": {},
   "outputs": [
    {
     "name": "stdout",
     "output_type": "stream",
     "text": [
      "Version:  2.2.3\n"
     ]
    }
   ],
   "source": [
    "import pandas as pd\n",
    "print('Version: ', pd.__version__)"
   ]
  },
  {
   "cell_type": "code",
   "execution_count": 2,
   "id": "2c347378-6808-43d9-84ab-8343af0b39e6",
   "metadata": {},
   "outputs": [
    {
     "name": "stdout",
     "output_type": "stream",
     "text": [
      "0     1\n",
      "1     4\n",
      "2     3\n",
      "3     2\n",
      "4     5\n",
      "5    32\n",
      "6     4\n",
      "dtype: int64\n",
      "Element at index 5 is:  32\n"
     ]
    }
   ],
   "source": [
    "list = [1,4,3,2,5,32,4]\n",
    "\n",
    "myseries = pd.Series(list)\n",
    "print(myseries)\n",
    "print('Element at index 5 is: ',myseries[5])"
   ]
  },
  {
   "cell_type": "code",
   "execution_count": 3,
   "id": "ae2d97d9-d808-4d78-94f9-41a2528a762d",
   "metadata": {},
   "outputs": [
    {
     "name": "stdout",
     "output_type": "stream",
     "text": [
      "a    1\n",
      "b    2\n",
      "c    3\n",
      "dtype: int64\n",
      "2\n"
     ]
    }
   ],
   "source": [
    "# Creating own labels\n",
    "a = [1,2,3]\n",
    "\n",
    "myvar = pd.Series(a, index = [\"a\", \"b\", \"c\"])\n",
    "print(myvar)\n",
    "print(myvar[\"b\"])"
   ]
  },
  {
   "cell_type": "code",
   "execution_count": 4,
   "id": "7594cbe8-d63f-4350-a2ce-1c248edb51cb",
   "metadata": {},
   "outputs": [
    {
     "name": "stdout",
     "output_type": "stream",
     "text": [
      "id                             1\n",
      "name       Harikesh Kumar Sharma\n",
      "email          sharma7@gmail.com\n",
      "address            Uttar Pradesh\n",
      "salary                   1000000\n",
      "dtype: object\n",
      "id 1\n",
      "name Harikesh Kumar Sharma\n"
     ]
    }
   ],
   "source": [
    "# Dictionary in series\n",
    "employee = {\n",
    "    \"id\" : 1,\n",
    "    \"name\" : \"Harikesh Kumar Sharma\",\n",
    "    \"email\" : \"sharma7@gmail.com\",\n",
    "    \"address\" : \"Uttar Pradesh\",\n",
    "    \"salary\" : 1000000\n",
    "}\n",
    "\n",
    "data = pd.Series(employee)\n",
    "\n",
    "print(data)\n",
    "print(\"id\", data[\"id\"])\n",
    "print(\"name\", data[\"name\"])"
   ]
  },
  {
   "cell_type": "code",
   "execution_count": 5,
   "id": "2da2ca34-702d-48b7-a06c-669087fd17ea",
   "metadata": {},
   "outputs": [
    {
     "name": "stdout",
     "output_type": "stream",
     "text": [
      "         Name  Age City\n",
      "0    Harikesh   21   UP\n",
      "1  Charanjeet   23   JK\n",
      "2       Mohit   42   GJ\n"
     ]
    }
   ],
   "source": [
    "# Dataframe Demo\n",
    "# Simple dataframe demo below\n",
    "data = {\n",
    "    \"Name\" : [\"Harikesh\", \"Charanjeet\", \"Mohit\"],\n",
    "    \"Age\" : [21,23,42],\n",
    "    \"City\" : [\"UP\", \"JK\", \"GJ\"]\n",
    "}\n",
    "\n",
    "df = pd.DataFrame(data)\n",
    "print(df)"
   ]
  },
  {
   "cell_type": "code",
   "execution_count": 6,
   "id": "6fbe0a36-463e-4d92-ad0e-d636ff21f040",
   "metadata": {},
   "outputs": [
    {
     "name": "stdout",
     "output_type": "stream",
     "text": [
      "First row: \n",
      "Name    Harikesh\n",
      "Age           21\n",
      "City          UP\n",
      "Name: 0, dtype: object\n",
      "         Name  Age City\n",
      "0    Harikesh   21   UP\n",
      "1  Charanjeet   23   JK\n",
      "21\n"
     ]
    }
   ],
   "source": [
    "# locking the row\n",
    "print(\"First row: \")\n",
    "print(df.loc[0])\n",
    "print(df.loc[[0,1]])\n",
    "print(df.iloc[0,1])"
   ]
  },
  {
   "cell_type": "code",
   "execution_count": 10,
   "id": "38c5f942-1c45-4ee3-a38d-86df0e017503",
   "metadata": {},
   "outputs": [
    {
     "name": "stdout",
     "output_type": "stream",
     "text": [
      "Name    Mohit\n",
      "Age        42\n",
      "Name: user3, dtype: object\n",
      "             Name  Age\n",
      "user1    Harikesh   21\n",
      "user2  Charanjeet   23\n",
      "user3       Mohit   42\n"
     ]
    }
   ],
   "source": [
    "user_data = {\n",
    "    \"Name\" : [\"Harikesh\", \"Charanjeet\", \"Mohit\"],\n",
    "    \"Age\" : [21,23,42]\n",
    "}\n",
    "df1 = pd.DataFrame(user_data, index = [\"user1\",\"user2\",\"user3\"])\n",
    "\n",
    "print(df1.loc[\"user3\"])\n",
    "print(df1)"
   ]
  },
  {
   "cell_type": "code",
   "execution_count": 13,
   "id": "704a8773-b31e-45e6-be05-7dd8b5dffd1a",
   "metadata": {},
   "outputs": [
    {
     "name": "stdout",
     "output_type": "stream",
     "text": [
      "   Age      Email        Name\n",
      "0   21  hks@z.com    Harikesh\n",
      "1   23   cs@z.com  Charanjeet\n",
      "2   42   mp@z.com       Mohit\n"
     ]
    }
   ],
   "source": [
    "user_data = {\n",
    "    \"Name\" : [\"Harikesh\", \"Charanjeet\", \"Mohit\"],\n",
    "    \"Age\" : [21,23,42],\n",
    "    \"Salary\" : [100000,21002,23021],\n",
    "    \"Email\" : [\"hks@z.com\",\"cs@z.com\",\"mp@z.com\"]\n",
    "}\n",
    "df1 = pd.DataFrame(user_data, columns = [\"Age\" ,\"Email\",\"Name\"])\n",
    "print(df1)"
   ]
  },
  {
   "cell_type": "code",
   "execution_count": 15,
   "id": "0bae8353-3dad-4232-b73c-d114fe0a7531",
   "metadata": {},
   "outputs": [
    {
     "name": "stdout",
     "output_type": "stream",
     "text": [
      "       Name  Age City\n",
      "0  Harikesh   21   UP\n",
      "1    Charan   21   JK\n",
      "2     Mohit   21   GJ\n",
      "3     Sunny   21   HR\n"
     ]
    }
   ],
   "source": [
    "# Creating DF derom list of lists\n",
    "\n",
    "data = [\n",
    "    [\"Harikesh\", 21, \"UP\"],\n",
    "    [\"Charan\", 21, \"JK\"],\n",
    "    [\"Mohit\", 21, \"GJ\"],\n",
    "    [\"Sunny\", 21, \"HR\"]\n",
    "]\n",
    "\n",
    "df = pd.DataFrame(data, columns = [\"Name\", \"Age\", \"City\"])\n",
    "print(df)"
   ]
  },
  {
   "cell_type": "code",
   "execution_count": 19,
   "id": "c7a62c0d-4b46-4d6d-8869-30882f63f140",
   "metadata": {},
   "outputs": [
    {
     "name": "stdout",
     "output_type": "stream",
     "text": [
      "     id             name                      email       gender  grade\n",
      "0     1   Humfrey Wrench         hwrench0@opera.com         Male    9.5\n",
      "1     2  Roderic Dwelley      rdwelley1@spotify.com         Male    7.0\n",
      "2     3   Wilton Ruspine         wruspine2@ucsd.edu         Male    2.2\n",
      "3     4      Ely Tremmel    etremmel3@xinhuanet.com         Male    4.5\n",
      "4     5  Farris Luckcock    fluckcock4@redcross.org      Agender    5.6\n",
      "..  ...              ...                        ...          ...    ...\n",
      "95   96  Cassey Fenemore  cfenemore2n@tuttocitta.it       Female    1.4\n",
      "96   97  Sheffield Ivain         sivain2o@google.cn  Genderqueer    6.8\n",
      "97   98    Clive MacGahy      cmacgahy2p@senate.gov         Male    2.2\n",
      "98   99     Arel Carrack   acarrack2q@biglobe.ne.jp         Male    4.5\n",
      "99  100  Allsun Shakesby   ashakesby2r@symantec.com  Genderfluid    3.6\n",
      "\n",
      "[100 rows x 5 columns]\n"
     ]
    }
   ],
   "source": [
    "# Getting data from external resources\n",
    "\n",
    "student_data = pd.read_csv(\"student_data.csv\")\n",
    "print(student_data) # printing entire data frame "
   ]
  },
  {
   "cell_type": "code",
   "execution_count": 23,
   "id": "cc997a13-6106-4356-b510-22630ceda309",
   "metadata": {},
   "outputs": [
    {
     "data": {
      "text/html": [
       "<div>\n",
       "<style scoped>\n",
       "    .dataframe tbody tr th:only-of-type {\n",
       "        vertical-align: middle;\n",
       "    }\n",
       "\n",
       "    .dataframe tbody tr th {\n",
       "        vertical-align: top;\n",
       "    }\n",
       "\n",
       "    .dataframe thead th {\n",
       "        text-align: right;\n",
       "    }\n",
       "</style>\n",
       "<table border=\"1\" class=\"dataframe\">\n",
       "  <thead>\n",
       "    <tr style=\"text-align: right;\">\n",
       "      <th></th>\n",
       "      <th>id</th>\n",
       "      <th>name</th>\n",
       "      <th>email</th>\n",
       "      <th>gender</th>\n",
       "      <th>grade</th>\n",
       "    </tr>\n",
       "  </thead>\n",
       "  <tbody>\n",
       "    <tr>\n",
       "      <th>0</th>\n",
       "      <td>1</td>\n",
       "      <td>Humfrey Wrench</td>\n",
       "      <td>hwrench0@opera.com</td>\n",
       "      <td>Male</td>\n",
       "      <td>9.5</td>\n",
       "    </tr>\n",
       "    <tr>\n",
       "      <th>1</th>\n",
       "      <td>2</td>\n",
       "      <td>Roderic Dwelley</td>\n",
       "      <td>rdwelley1@spotify.com</td>\n",
       "      <td>Male</td>\n",
       "      <td>7.0</td>\n",
       "    </tr>\n",
       "    <tr>\n",
       "      <th>2</th>\n",
       "      <td>3</td>\n",
       "      <td>Wilton Ruspine</td>\n",
       "      <td>wruspine2@ucsd.edu</td>\n",
       "      <td>Male</td>\n",
       "      <td>2.2</td>\n",
       "    </tr>\n",
       "    <tr>\n",
       "      <th>3</th>\n",
       "      <td>4</td>\n",
       "      <td>Ely Tremmel</td>\n",
       "      <td>etremmel3@xinhuanet.com</td>\n",
       "      <td>Male</td>\n",
       "      <td>4.5</td>\n",
       "    </tr>\n",
       "    <tr>\n",
       "      <th>4</th>\n",
       "      <td>5</td>\n",
       "      <td>Farris Luckcock</td>\n",
       "      <td>fluckcock4@redcross.org</td>\n",
       "      <td>Agender</td>\n",
       "      <td>5.6</td>\n",
       "    </tr>\n",
       "  </tbody>\n",
       "</table>\n",
       "</div>"
      ],
      "text/plain": [
       "   id             name                    email   gender  grade\n",
       "0   1   Humfrey Wrench       hwrench0@opera.com     Male    9.5\n",
       "1   2  Roderic Dwelley    rdwelley1@spotify.com     Male    7.0\n",
       "2   3   Wilton Ruspine       wruspine2@ucsd.edu     Male    2.2\n",
       "3   4      Ely Tremmel  etremmel3@xinhuanet.com     Male    4.5\n",
       "4   5  Farris Luckcock  fluckcock4@redcross.org  Agender    5.6"
      ]
     },
     "execution_count": 23,
     "metadata": {},
     "output_type": "execute_result"
    }
   ],
   "source": [
    "# directly taking tabular structure\n",
    "student_data.head()"
   ]
  },
  {
   "cell_type": "code",
   "execution_count": 25,
   "id": "0e7cc118-6972-4c2d-8db2-4620f6897395",
   "metadata": {},
   "outputs": [
    {
     "name": "stdout",
     "output_type": "stream",
     "text": [
      "   id             name                    email   gender  grade\n",
      "0   1   Humfrey Wrench       hwrench0@opera.com     Male    9.5\n",
      "1   2  Roderic Dwelley    rdwelley1@spotify.com     Male    7.0\n",
      "2   3   Wilton Ruspine       wruspine2@ucsd.edu     Male    2.2\n",
      "3   4      Ely Tremmel  etremmel3@xinhuanet.com     Male    4.5\n",
      "4   5  Farris Luckcock  fluckcock4@redcross.org  Agender    5.6\n"
     ]
    }
   ],
   "source": [
    "print(student_data.head())"
   ]
  },
  {
   "cell_type": "code",
   "execution_count": 27,
   "id": "ce3f211a-8706-4947-94fe-382756fbfdb8",
   "metadata": {},
   "outputs": [
    {
     "name": "stdout",
     "output_type": "stream",
     "text": [
      "     id                   name                             email       gender  grade\n",
      "0     1         Humfrey Wrench                hwrench0@opera.com         Male    9.5\n",
      "1     2        Roderic Dwelley             rdwelley1@spotify.com         Male    7.0\n",
      "2     3         Wilton Ruspine                wruspine2@ucsd.edu         Male    2.2\n",
      "3     4            Ely Tremmel           etremmel3@xinhuanet.com         Male    4.5\n",
      "4     5        Farris Luckcock           fluckcock4@redcross.org      Agender    5.6\n",
      "5     6        Jamaal Thormann           jthormann5@netvibes.com         Male    5.7\n",
      "6     7          Egbert Poplee                epoplee6@google.de   Polygender    4.9\n",
      "7     8       Alyssa Bennedsen             abennedsen7@google.ca       Female    2.9\n",
      "8     9         Donna Kienlein         dkienlein8@techcrunch.com       Female    3.8\n",
      "9    10          Trudi Scherer               tscherer9@hexun.com       Female    9.3\n",
      "10   11          Aurel Caffrey         acaffreya@dagondesign.com       Female    3.9\n",
      "11   12         Lazar Lumsdale            llumsdaleb@tinyurl.com         Male    3.5\n",
      "12   13           Ted Woollett           twoollettc@newsvine.com       Female    8.8\n",
      "13   14        Andonis Sawfoot                asawfootd@1und1.de         Male    5.5\n",
      "14   15             Sid Nassie             snassiee@yolasite.com         Male    3.8\n",
      "15   16          Rick Ausiello       rausiellof@businesswire.com         Male    5.2\n",
      "16   17         Marshall Blyth                  mblythg@digg.com         Male    9.3\n",
      "17   18           Katya Merkle               kmerkleh@google.com       Female    6.0\n",
      "18   19           Sayre Goozee              sgoozeei@arizona.edu         Male    7.6\n",
      "19   20            Bobbe Ugoni           bugonij@theatlantic.com       Female   10.0\n",
      "20   21         Ichabod Ingold            iingoldk@wikipedia.org     Bigender    4.9\n",
      "21   22         Duncan Heisler             dheislerl@reuters.com         Male    7.1\n",
      "22   23        Ulises Lipprose             ulipprosem@tripod.com         Male    5.0\n",
      "23   24         Gaston Carbert            gcarbertn@vkontakte.ru         Male    4.3\n",
      "24   25            Velma Lower             vlowero@canalblog.com     Bigender    1.8\n",
      "25   26         Vivyan Jurisic               vjurisicp@google.pl       Female    9.1\n",
      "26   27       York Du Plantier               yduq@purevolume.com         Male    9.4\n",
      "27   28         Thibaud Subhan          tsubhanr@yellowpages.com         Male    7.3\n",
      "28   29          Minda Duckitt            mduckitts@china.com.cn       Female    7.6\n",
      "29   30           Bryn Perfitt                bperfittt@imdb.com         Male    4.1\n",
      "30   31       Thatcher Milksop             tmilksopu@nbcnews.com         Male    9.6\n",
      "31   32         Bail Partleton         bpartletonv@hostgator.com         Male    6.6\n",
      "32   33     Wandie Kitchenside       wkitchensidew@discovery.com       Female    3.8\n",
      "33   34         Althea Eliyahu               aeliyahux@wiley.com       Female    7.1\n",
      "34   35          Gideon Scarre       gscarrey@simplemachines.org         Male    8.2\n",
      "35   36  Hildagarde Littlewood     hlittlewoodz@reverbnation.com       Female    6.8\n",
      "36   37           Decca Barrim         dbarrim10@theatlantic.com         Male    5.1\n",
      "37   38               Joy Adie                    jadie11@360.cn       Female    5.9\n",
      "38   39          Michel Pervew        mpervew12@biblegateway.com         Male    7.4\n",
      "39   40          Kalila Boodle            kboodle13@columbia.edu       Female    2.1\n",
      "40   41          Neils Bigrigg             nbigrigg14@google.com         Male    2.9\n",
      "41   42          Perice Aingel               paingel15@prlog.org         Male    1.8\n",
      "42   43          Henrieta Bone                  hbone16@youtu.be       Female    3.8\n",
      "43   44        Isa Mitchelhill      imitchelhill17@bloglovin.com       Female    2.7\n",
      "44   45             Gael Grigs            ggrigs18@blinklist.com         Male    3.5\n",
      "45   46      Papageno Brookzie          pbrookzie19@trellian.com         Male    9.5\n",
      "46   47           Eada Cockson                ecockson1a@umn.edu       Female    3.2\n",
      "47   48        Stephi De Fries              sde1b@indiatimes.com       Female    1.2\n",
      "48   49        Vonni Spellward             vspellward1c@ox.ac.uk       Female    8.7\n",
      "49   50          Harper Barlas                hbarlas1d@furl.net         Male    2.3\n",
      "50   51          Joli Paulisch            jpaulisch1e@flickr.com       Female    9.5\n",
      "51   52       Billye McQuirter      bmcquirter1f@liveinternet.ru       Female    9.9\n",
      "52   53        Donnell Caseley                dcaseley1g@cnn.com         Male    9.9\n",
      "53   54          Gideon Glynne         gglynne1h@paginegialle.it   Non-binary    9.0\n",
      "54   55          Godiva Fenech         gfenech1i@paginegialle.it       Female    3.2\n",
      "55   56           Sarina Rojas        srojas1j@howstuffworks.com       Female    4.6\n",
      "56   57      Pepito Yellowlees        pyellowlees1k@netscape.com         Male    2.5\n",
      "57   58            Alla Pouton               apouton1l@wiley.com  Genderfluid    3.3\n",
      "58   59          Genia Hubbins               ghubbins1m@army.mil       Female    1.0\n",
      "59   60         Quintina Wills                qwills1n@webmd.com       Female    2.4\n",
      "60   61        Grannie Volette      gvolette1o@blogtalkradio.com         Male   10.0\n",
      "61   62         Simone Gettone                sgettone1p@nps.gov         Male    5.2\n",
      "62   63        Neill Aronowicz              naronowicz1q@last.fm         Male    2.5\n",
      "63   64              Sam Extal             sextal1r@amazon.co.uk         Male    8.3\n",
      "64   65          Kerrie Pariss           kpariss1s@wikimedia.org   Polygender    5.7\n",
      "65   66       Crosby Maletratt            cmaletratt1t@google.it         Male    6.1\n",
      "66   67          Mandy Minelli          mminelli1u@microsoft.com       Female    5.8\n",
      "67   68        Augustin Sharer               asharer1v@google.pl         Male    1.4\n",
      "68   69          Zollie Dytham                zdytham1w@ucsd.edu  Genderfluid    3.8\n",
      "69   70         Burtie Linbohm            blinbohm1x@skyrock.com         Male    8.7\n",
      "70   71         Mirilla Astill                mastill1y@wisc.edu       Female    6.4\n",
      "71   72       Natalie Thomtson        nthomtson1z@eventbrite.com       Female    9.6\n",
      "72   73  Papagena Krzysztofiak       pkrzysztofiak20@tinyurl.com       Female    4.1\n",
      "73   74       Avigdor Yearsley           ayearsley21@harvard.edu         Male    8.8\n",
      "74   75          Leoine Hempel  lhempel22@nationalgeographic.com       Female    6.3\n",
      "75   76       Lucias Gaynsford                lgaynsford23@51.la         Male    4.9\n",
      "76   77            Nate Haldin                 nhaldin24@psu.edu         Male    2.4\n",
      "77   78           Winston Shee            wshee25@slideshare.net         Male    1.4\n",
      "78   79     Cherianne Rickeard          crickeard26@hubpages.com       Female    9.8\n",
      "79   80           Fina Rawlins           frawlins27@marriott.com       Female    6.9\n",
      "80   81          Nerte Allport         nallport28@wikispaces.com       Female    1.2\n",
      "81   82        Oberon Longfoot         olongfoot29@indiegogo.com         Male    9.6\n",
      "82   83          Spike Mileham           smileham2a@virginia.edu         Male    1.1\n",
      "83   84        Hermine Readett              hreadett2b@sogou.com       Female    6.6\n",
      "84   85          Neils Telford            ntelford2c@squidoo.com         Male    9.8\n",
      "85   86        Jasmin Billyard       jbillyard2d@theatlantic.com       Female    8.9\n",
      "86   87      Rollin Spellworth             rspellworth2e@hhs.gov         Male    8.9\n",
      "87   88     Freedman Wardingly         fwardingly2f@addtoany.com         Male    9.4\n",
      "88   89       Dinah MacNeillie            dmacneillie2g@java.com       Female    4.3\n",
      "89   90          Roseann Blaze              rblaze2h@cbsnews.com       Female    2.5\n",
      "90   91          Flossie Jacke                   fjacke2i@hp.com       Female    1.4\n",
      "91   92       Bella Langworthy         blangworthy2j@cornell.edu       Female    6.4\n",
      "92   93       Hillard Preskett           hpreskett2k@smugmug.com         Male    2.7\n",
      "93   94    Fenelia Palphramand             fpalphramand2l@hp.com       Female    3.7\n",
      "94   95         Mischa Gantley           mgantley2m@redcross.org         Male    2.0\n",
      "95   96        Cassey Fenemore         cfenemore2n@tuttocitta.it       Female    1.4\n",
      "96   97        Sheffield Ivain                sivain2o@google.cn  Genderqueer    6.8\n",
      "97   98          Clive MacGahy             cmacgahy2p@senate.gov         Male    2.2\n",
      "98   99           Arel Carrack          acarrack2q@biglobe.ne.jp         Male    4.5\n",
      "99  100        Allsun Shakesby          ashakesby2r@symantec.com  Genderfluid    3.6\n"
     ]
    }
   ],
   "source": [
    "print(student_data.to_string())"
   ]
  },
  {
   "cell_type": "code",
   "execution_count": 30,
   "id": "f17fa713-de1e-4235-93fa-170ccd5467fb",
   "metadata": {},
   "outputs": [
    {
     "name": "stdout",
     "output_type": "stream",
     "text": [
      "   id             name                    email      gender  grade\n",
      "0   1   Humfrey Wrench       hwrench0@opera.com        Male    9.5\n",
      "1   2  Roderic Dwelley    rdwelley1@spotify.com        Male    7.0\n",
      "2   3   Wilton Ruspine       wruspine2@ucsd.edu        Male    2.2\n",
      "3   4      Ely Tremmel  etremmel3@xinhuanet.com        Male    4.5\n",
      "4   5  Farris Luckcock  fluckcock4@redcross.org     Agender    5.6\n",
      "5   6  Jamaal Thormann  jthormann5@netvibes.com        Male    5.7\n",
      "6   7    Egbert Poplee       epoplee6@google.de  Polygender    4.9\n"
     ]
    }
   ],
   "source": [
    "print(student_data.head(7))"
   ]
  },
  {
   "cell_type": "code",
   "execution_count": 31,
   "id": "304ea9f7-2c1f-411b-8cdc-9bde41cce430",
   "metadata": {},
   "outputs": [
    {
     "name": "stdout",
     "output_type": "stream",
     "text": [
      "   id             name                  email gender  grade\n",
      "0   1   Humfrey Wrench     hwrench0@opera.com   Male    9.5\n",
      "1   2  Roderic Dwelley  rdwelley1@spotify.com   Male    7.0\n"
     ]
    }
   ],
   "source": [
    "print(student_data.head(2))"
   ]
  },
  {
   "cell_type": "code",
   "execution_count": 34,
   "id": "59951448-3da0-4fd5-9d2d-d79658b9287b",
   "metadata": {},
   "outputs": [
    {
     "name": "stdout",
     "output_type": "stream",
     "text": [
      "     id             name                     email       gender  grade\n",
      "98   99     Arel Carrack  acarrack2q@biglobe.ne.jp         Male    4.5\n",
      "99  100  Allsun Shakesby  ashakesby2r@symantec.com  Genderfluid    3.6\n"
     ]
    }
   ],
   "source": [
    "print(student_data.tail(2))"
   ]
  },
  {
   "cell_type": "code",
   "execution_count": 37,
   "id": "7d6fb14d-6469-4eaf-a429-357fc2eee57b",
   "metadata": {},
   "outputs": [
    {
     "name": "stdout",
     "output_type": "stream",
     "text": [
      "(100, 5)\n"
     ]
    }
   ],
   "source": [
    "# No. of Rows and Columns\n",
    "print(student_data.shape)"
   ]
  },
  {
   "cell_type": "code",
   "execution_count": 39,
   "id": "b9084506-f0d1-4ebf-9207-ca2f9e2ae68c",
   "metadata": {},
   "outputs": [
    {
     "name": "stdout",
     "output_type": "stream",
     "text": [
      "<class 'pandas.core.frame.DataFrame'>\n",
      "RangeIndex: 100 entries, 0 to 99\n",
      "Data columns (total 5 columns):\n",
      " #   Column  Non-Null Count  Dtype  \n",
      "---  ------  --------------  -----  \n",
      " 0   id      100 non-null    int64  \n",
      " 1   name    100 non-null    object \n",
      " 2   email   100 non-null    object \n",
      " 3   gender  100 non-null    object \n",
      " 4   grade   100 non-null    float64\n",
      "dtypes: float64(1), int64(1), object(3)\n",
      "memory usage: 4.0+ KB\n",
      "None\n"
     ]
    }
   ],
   "source": [
    "# Summary of dataframe\n",
    "print(student_data.info())"
   ]
  },
  {
   "cell_type": "code",
   "execution_count": 42,
   "id": "82cf7df6-d8bd-4a47-bdc7-7937c42c285e",
   "metadata": {},
   "outputs": [
    {
     "name": "stdout",
     "output_type": "stream",
     "text": [
      "               id       grade\n",
      "count  100.000000  100.000000\n",
      "mean    50.500000    5.522000\n",
      "std     29.011492    2.797242\n",
      "min      1.000000    1.000000\n",
      "25%     25.750000    3.200000\n",
      "50%     50.500000    5.200000\n",
      "75%     75.250000    8.225000\n",
      "max    100.000000   10.000000\n"
     ]
    }
   ],
   "source": [
    "print(student_data.describe())"
   ]
  },
  {
   "cell_type": "code",
   "execution_count": 44,
   "id": "a1fcf6b3-029d-4b89-98fe-3bbc7a533b23",
   "metadata": {},
   "outputs": [
    {
     "data": {
      "text/html": [
       "<div>\n",
       "<style scoped>\n",
       "    .dataframe tbody tr th:only-of-type {\n",
       "        vertical-align: middle;\n",
       "    }\n",
       "\n",
       "    .dataframe tbody tr th {\n",
       "        vertical-align: top;\n",
       "    }\n",
       "\n",
       "    .dataframe thead th {\n",
       "        text-align: right;\n",
       "    }\n",
       "</style>\n",
       "<table border=\"1\" class=\"dataframe\">\n",
       "  <thead>\n",
       "    <tr style=\"text-align: right;\">\n",
       "      <th></th>\n",
       "      <th>id</th>\n",
       "      <th>grade</th>\n",
       "    </tr>\n",
       "  </thead>\n",
       "  <tbody>\n",
       "    <tr>\n",
       "      <th>count</th>\n",
       "      <td>100.000000</td>\n",
       "      <td>100.000000</td>\n",
       "    </tr>\n",
       "    <tr>\n",
       "      <th>mean</th>\n",
       "      <td>50.500000</td>\n",
       "      <td>5.522000</td>\n",
       "    </tr>\n",
       "    <tr>\n",
       "      <th>std</th>\n",
       "      <td>29.011492</td>\n",
       "      <td>2.797242</td>\n",
       "    </tr>\n",
       "    <tr>\n",
       "      <th>min</th>\n",
       "      <td>1.000000</td>\n",
       "      <td>1.000000</td>\n",
       "    </tr>\n",
       "    <tr>\n",
       "      <th>25%</th>\n",
       "      <td>25.750000</td>\n",
       "      <td>3.200000</td>\n",
       "    </tr>\n",
       "    <tr>\n",
       "      <th>50%</th>\n",
       "      <td>50.500000</td>\n",
       "      <td>5.200000</td>\n",
       "    </tr>\n",
       "    <tr>\n",
       "      <th>75%</th>\n",
       "      <td>75.250000</td>\n",
       "      <td>8.225000</td>\n",
       "    </tr>\n",
       "    <tr>\n",
       "      <th>max</th>\n",
       "      <td>100.000000</td>\n",
       "      <td>10.000000</td>\n",
       "    </tr>\n",
       "  </tbody>\n",
       "</table>\n",
       "</div>"
      ],
      "text/plain": [
       "               id       grade\n",
       "count  100.000000  100.000000\n",
       "mean    50.500000    5.522000\n",
       "std     29.011492    2.797242\n",
       "min      1.000000    1.000000\n",
       "25%     25.750000    3.200000\n",
       "50%     50.500000    5.200000\n",
       "75%     75.250000    8.225000\n",
       "max    100.000000   10.000000"
      ]
     },
     "execution_count": 44,
     "metadata": {},
     "output_type": "execute_result"
    }
   ],
   "source": [
    "student_data.describe()"
   ]
  },
  {
   "cell_type": "code",
   "execution_count": 46,
   "id": "300ffca8-683d-4641-a339-0d82aadac328",
   "metadata": {},
   "outputs": [
    {
     "name": "stdout",
     "output_type": "stream",
     "text": [
      "   id             name  grade\n",
      "0   1   Humfrey Wrench    9.5\n",
      "1   2  Roderic Dwelley    7.0\n",
      "2   3   Wilton Ruspine    2.2\n",
      "3   4      Ely Tremmel    4.5\n",
      "4   5  Farris Luckcock    5.6\n"
     ]
    }
   ],
   "source": [
    "# Selecting single column\n",
    "print(student_data[['id','name','grade']].head())"
   ]
  },
  {
   "cell_type": "code",
   "execution_count": 48,
   "id": "c2b4c3d8-ba02-45b7-a79c-99eed2941266",
   "metadata": {},
   "outputs": [
    {
     "data": {
      "text/html": [
       "<div>\n",
       "<style scoped>\n",
       "    .dataframe tbody tr th:only-of-type {\n",
       "        vertical-align: middle;\n",
       "    }\n",
       "\n",
       "    .dataframe tbody tr th {\n",
       "        vertical-align: top;\n",
       "    }\n",
       "\n",
       "    .dataframe thead th {\n",
       "        text-align: right;\n",
       "    }\n",
       "</style>\n",
       "<table border=\"1\" class=\"dataframe\">\n",
       "  <thead>\n",
       "    <tr style=\"text-align: right;\">\n",
       "      <th></th>\n",
       "      <th>id</th>\n",
       "      <th>name</th>\n",
       "      <th>grade</th>\n",
       "    </tr>\n",
       "  </thead>\n",
       "  <tbody>\n",
       "    <tr>\n",
       "      <th>0</th>\n",
       "      <td>1</td>\n",
       "      <td>Humfrey Wrench</td>\n",
       "      <td>9.5</td>\n",
       "    </tr>\n",
       "    <tr>\n",
       "      <th>1</th>\n",
       "      <td>2</td>\n",
       "      <td>Roderic Dwelley</td>\n",
       "      <td>7.0</td>\n",
       "    </tr>\n",
       "    <tr>\n",
       "      <th>2</th>\n",
       "      <td>3</td>\n",
       "      <td>Wilton Ruspine</td>\n",
       "      <td>2.2</td>\n",
       "    </tr>\n",
       "    <tr>\n",
       "      <th>3</th>\n",
       "      <td>4</td>\n",
       "      <td>Ely Tremmel</td>\n",
       "      <td>4.5</td>\n",
       "    </tr>\n",
       "    <tr>\n",
       "      <th>4</th>\n",
       "      <td>5</td>\n",
       "      <td>Farris Luckcock</td>\n",
       "      <td>5.6</td>\n",
       "    </tr>\n",
       "  </tbody>\n",
       "</table>\n",
       "</div>"
      ],
      "text/plain": [
       "   id             name  grade\n",
       "0   1   Humfrey Wrench    9.5\n",
       "1   2  Roderic Dwelley    7.0\n",
       "2   3   Wilton Ruspine    2.2\n",
       "3   4      Ely Tremmel    4.5\n",
       "4   5  Farris Luckcock    5.6"
      ]
     },
     "execution_count": 48,
     "metadata": {},
     "output_type": "execute_result"
    }
   ],
   "source": [
    "student_data[['id','name','grade']].head()"
   ]
  },
  {
   "cell_type": "code",
   "execution_count": 51,
   "id": "d01e57ec-c341-4982-82a6-74ad3bec5716",
   "metadata": {},
   "outputs": [
    {
     "data": {
      "text/plain": [
       "count    100.000000\n",
       "mean       5.522000\n",
       "std        2.797242\n",
       "min        1.000000\n",
       "25%        3.200000\n",
       "50%        5.200000\n",
       "75%        8.225000\n",
       "max       10.000000\n",
       "Name: grade, dtype: float64"
      ]
     },
     "execution_count": 51,
     "metadata": {},
     "output_type": "execute_result"
    }
   ],
   "source": [
    "student_data['grade'].describe() # describe only for grade column"
   ]
  },
  {
   "cell_type": "code",
   "execution_count": 52,
   "id": "eba8e4f0-7f2a-488b-85ef-cb9d50e5beef",
   "metadata": {},
   "outputs": [],
   "source": [
    "# ACTIVITY !!! ---> ANOTHER FILE BRO"
   ]
  },
  {
   "cell_type": "code",
   "execution_count": null,
   "id": "5ded6145-b42e-4330-9fae-da950bad7453",
   "metadata": {},
   "outputs": [],
   "source": []
  }
 ],
 "metadata": {
  "kernelspec": {
   "display_name": "Python 3 (ipykernel)",
   "language": "python",
   "name": "python3"
  },
  "language_info": {
   "codemirror_mode": {
    "name": "ipython",
    "version": 3
   },
   "file_extension": ".py",
   "mimetype": "text/x-python",
   "name": "python",
   "nbconvert_exporter": "python",
   "pygments_lexer": "ipython3",
   "version": "3.13.2"
  }
 },
 "nbformat": 4,
 "nbformat_minor": 5
}
