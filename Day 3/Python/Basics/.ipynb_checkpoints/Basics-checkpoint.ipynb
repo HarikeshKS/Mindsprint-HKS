{
 "cells": [
  {
   "cell_type": "code",
   "execution_count": 1,
   "id": "b837ce5b-f1c8-4c5f-9337-03549dbbbafa",
   "metadata": {},
   "outputs": [
    {
     "name": "stdout",
     "output_type": "stream",
     "text": [
      "Hello brother!\n"
     ]
    }
   ],
   "source": [
    "# Simple Dimple \n",
    "print(\"Hello brother!\")"
   ]
  },
  {
   "cell_type": "code",
   "execution_count": 5,
   "id": "e1001b7b-e35d-4e37-94fa-849ddd65fee9",
   "metadata": {},
   "outputs": [
    {
     "name": "stdout",
     "output_type": "stream",
     "text": [
      "Number 1:  12\n",
      "Number 2: 77\n",
      "Name:  Brother\n",
      "Orange\n",
      "Lavendar\n",
      "Pink\n",
      "HKS\n",
      "HKS\n",
      "HKS\n"
     ]
    }
   ],
   "source": [
    "# Variables\n",
    "\n",
    "num1 = 12;\n",
    "num2 = 77\n",
    "name = \"Brother\"\n",
    "\n",
    "print(\"Number 1: \", num1)\n",
    "print(f\"Number 2: {num2}\")\n",
    "print(\"Name: \", name)\n",
    "\n",
    "x, y, z = \"Orange\", \"Lavendar\", \"Pink\"\n",
    "\n",
    "a = b = c = \"HKS\"\n",
    "print(x)\n",
    "print(y)\n",
    "print(z)\n",
    "print(a)\n",
    "print(b)\n",
    "print(c)"
   ]
  },
  {
   "cell_type": "code",
   "execution_count": 6,
   "id": "ee1e0313-551f-4313-b9d1-e6b0f0a878f0",
   "metadata": {},
   "outputs": [
    {
     "name": "stdout",
     "output_type": "stream",
     "text": [
      "<class 'str'>\n",
      "<class 'int'>\n"
     ]
    }
   ],
   "source": [
    "# Data Type \n",
    "print(type(x))\n",
    "print(type(num1))"
   ]
  },
  {
   "cell_type": "code",
   "execution_count": 1,
   "id": "4043a33b-8fed-48dc-941d-f8d22b0f178b",
   "metadata": {},
   "outputs": [
    {
     "name": "stdin",
     "output_type": "stream",
     "text": [
      "Enter num1:  77\n",
      "Enter num2:  12\n"
     ]
    },
    {
     "name": "stdout",
     "output_type": "stream",
     "text": [
      "Floor Division:  6\n",
      "Exponential:  43439888521963583647921\n"
     ]
    }
   ],
   "source": [
    "# Taking input from the user\n",
    "x = int(input(\"Enter num1: \"))\n",
    "y = int(input(\"Enter num2: \"))\n",
    "\n",
    "# Floor Division\n",
    "print(\"Floor Division: \", x//y)\n",
    "# Exponential\n",
    "print(\"Exponential: \", x**y)\n"
   ]
  },
  {
   "cell_type": "code",
   "execution_count": 2,
   "id": "377c2d1e-1a80-4f99-bf35-377631ff4eb2",
   "metadata": {},
   "outputs": [
    {
     "name": "stdout",
     "output_type": "stream",
     "text": [
      "Is num1 equal to num2?  False\n",
      "Is num1 not equal to num2?  True\n",
      "Is num1 greater than num2?  True\n",
      "Is num1 less than num2?  False\n",
      "Is num1 greater than equal to num2?  True\n",
      "Is num1 less than equal to num2?  False\n"
     ]
    }
   ],
   "source": [
    "# Relational Operators\n",
    "\n",
    "# Equal to\n",
    "print(\"Is num1 equal to num2? \", x==y)\n",
    "\n",
    "# Not equal to\n",
    "print(\"Is num1 not equal to num2? \", x!=y)\n",
    "\n",
    "#Greater than\n",
    "print(\"Is num1 greater than num2? \", x>y)\n",
    "\n",
    "#Less than\n",
    "print(\"Is num1 less than num2? \", x<y)\n",
    "\n",
    "#Greater than equal to\n",
    "print(\"Is num1 greater than equal to num2? \", x>=y)\n",
    "\n",
    "#Less than equal to\n",
    "print(\"Is num1 less than equal to num2? \", x<=y)\n",
    "\n"
   ]
  },
  {
   "cell_type": "code",
   "execution_count": 5,
   "id": "c12cadb2-eb5e-4391-9515-083cb46a7055",
   "metadata": {},
   "outputs": [
    {
     "name": "stdout",
     "output_type": "stream",
     "text": [
      "17\n",
      "15\n",
      "105\n",
      "11025\n",
      "5512\n"
     ]
    }
   ],
   "source": [
    "num = 10\n",
    "\n",
    "num += 7\n",
    "print(num)\n",
    "num -= 2\n",
    "print(num)\n",
    "num *= 7\n",
    "print(num)\n",
    "num **= 2\n",
    "print(num)\n",
    "num //= 2\n",
    "print(num)"
   ]
  },
  {
   "cell_type": "code",
   "execution_count": 6,
   "id": "b188311e-9fa2-4b21-bc06-343c9bfab701",
   "metadata": {},
   "outputs": [
    {
     "name": "stdin",
     "output_type": "stream",
     "text": [
      "Enter your email:  admin@gmail.com\n",
      "Enter password:  admin@123\n"
     ]
    },
    {
     "name": "stdout",
     "output_type": "stream",
     "text": [
      "True\n"
     ]
    }
   ],
   "source": [
    "# Logical Operator Demo\n",
    "\n",
    "email = input(\"Enter your email: \")\n",
    "password = input(\"Enter password: \")\n",
    "print(email == \"admin@gmail.com\" and password == \"admin@123\")"
   ]
  },
  {
   "cell_type": "code",
   "execution_count": 12,
   "id": "b0d1cf23-bda4-4150-a5a9-88c2b2b7831e",
   "metadata": {},
   "outputs": [
    {
     "name": "stdin",
     "output_type": "stream",
     "text": [
      "Enter number brother:  0\n"
     ]
    },
    {
     "name": "stdout",
     "output_type": "stream",
     "text": [
      "Zero brother!\n"
     ]
    }
   ],
   "source": [
    "# Conditional Statements \n",
    "\n",
    "num = int(input(\"Enter number brother: \"))\n",
    "\n",
    "if num > 0:\n",
    "    print(\"Positive number brother!\")\n",
    "elif num == 0:\n",
    "    print(\"Zero brother!\")\n",
    "else:\n",
    "    print(\"Negative number brother!\")"
   ]
  },
  {
   "cell_type": "code",
   "execution_count": 14,
   "id": "e963e58e-3be3-4fc4-a964-0a9fd0d97e85",
   "metadata": {},
   "outputs": [
    {
     "name": "stdin",
     "output_type": "stream",
     "text": [
      "Enter number brother:  12\n"
     ]
    },
    {
     "name": "stdout",
     "output_type": "stream",
     "text": [
      "Positive number bro!\n"
     ]
    }
   ],
   "source": [
    "# Ternary (shorthand)\n",
    "\n",
    "num = int(input(\"Enter number brother: \"))\n",
    "result = \"Positive number bro!\" if num > 0 else \"Negative number bro!\"\n",
    "print(result)"
   ]
  },
  {
   "cell_type": "code",
   "execution_count": 15,
   "id": "605f93e3-3336-49e0-9a9e-57b8f8f864f2",
   "metadata": {},
   "outputs": [
    {
     "name": "stdin",
     "output_type": "stream",
     "text": [
      "Enter number brother:  12\n"
     ]
    },
    {
     "name": "stdout",
     "output_type": "stream",
     "text": [
      "Positive and even number bro!\n"
     ]
    }
   ],
   "source": [
    "# Nested If\n",
    "\n",
    "num = int(input(\"Enter number brother: \"))\n",
    "\n",
    "if num > 0:\n",
    "    if num % 2 == 0:\n",
    "        print(\"Positive and even number bro!\")\n",
    "    else:\n",
    "        print(\"Positive and odd number bro!\")\n",
    "else:\n",
    "    print(\"Negative number bro!\")"
   ]
  },
  {
   "cell_type": "code",
   "execution_count": 16,
   "id": "d32e9b1b-1dd0-41fc-9905-ac9b7d58d63d",
   "metadata": {},
   "outputs": [],
   "source": [
    "#pass - acts as placeholder for future code, avoids syntax errors\n",
    "\n",
    "num = 9\n",
    "if num > 0:\n",
    "    pass\n",
    "else:\n",
    "    print(\"This won't execute.\")"
   ]
  },
  {
   "cell_type": "code",
   "execution_count": 18,
   "id": "f3423351-1cc4-4806-8c27-b3f754dbb1dd",
   "metadata": {},
   "outputs": [
    {
     "name": "stdout",
     "output_type": "stream",
     "text": [
      "While loop: \n",
      "Count:  1\n",
      "Count:  2\n",
      "Count:  3\n",
      "Count:  4\n",
      "Count:  5\n",
      "\n",
      "For loop: \n",
      "Number:  1\n",
      "Number:  2\n",
      "Number:  3\n",
      "Number:  4\n",
      "Number:  5\n"
     ]
    }
   ],
   "source": [
    "# Loops \n",
    "count = 1\n",
    "print(\"While loop: \")\n",
    "while count <= 5:\n",
    "    print(\"Count: \", count)\n",
    "    count += 1\n",
    "print(\"\\nFor loop: \")\n",
    "for i in range(1, 6):\n",
    "    print(\"Number: \", i)\n"
   ]
  },
  {
   "cell_type": "code",
   "execution_count": 22,
   "id": "1c85dadc-f929-4c64-ab01-99be4c3e32d3",
   "metadata": {},
   "outputs": [
    {
     "name": "stdin",
     "output_type": "stream",
     "text": [
      "break? 0\n",
      "break? 0\n",
      "break? 1\n"
     ]
    }
   ],
   "source": [
    "#break demo\n",
    "while(True):\n",
    "    choice = int(input(\"break?\"))\n",
    "    if (choice):\n",
    "        break"
   ]
  },
  {
   "cell_type": "code",
   "execution_count": 5,
   "id": "6c78f32b-e7d8-4c6d-bdbe-93cb3b0873c6",
   "metadata": {},
   "outputs": [
    {
     "name": "stdout",
     "output_type": "stream",
     "text": [
      "Hello, Brother!\n",
      "8\n",
      "Hello, Thala!\n",
      "Hi, HKS!\n"
     ]
    }
   ],
   "source": [
    "# Functions \n",
    "def greet(name):\n",
    "    print(f\"Hello, {name}!\")\n",
    "greet(\"Brother\")\n",
    "\n",
    "# Multiple Parameters (with return value)\n",
    "def add(a, b):\n",
    "    return a + b\n",
    "result = add(3, 5)\n",
    "print(result)\n",
    "\n",
    "# Default Parameters\n",
    "def greet(name, greeting=\"Hello\"):\n",
    "    print(f\"{greeting}, {name}!\")\n",
    "greet(\"Thala\")\n",
    "greet(\"HKS\", \"Hi\")"
   ]
  },
  {
   "cell_type": "code",
   "execution_count": 8,
   "id": "3f891df3-2193-47d4-b6cc-8d06a277950d",
   "metadata": {},
   "outputs": [
    {
     "name": "stdout",
     "output_type": "stream",
     "text": [
      "120\n"
     ]
    }
   ],
   "source": [
    "# Recursive Function\n",
    "def factorial(n):\n",
    "    if n == 0 or n == 1:\n",
    "        return 1\n",
    "    else:\n",
    "        return n * factorial(n - 1)\n",
    "\n",
    "result = factorial(5)\n",
    "print(result)"
   ]
  },
  {
   "cell_type": "code",
   "execution_count": 7,
   "id": "c809f99e-f763-41df-9706-981cc5cdeec6",
   "metadata": {},
   "outputs": [
    {
     "name": "stdout",
     "output_type": "stream",
     "text": [
      "HKS is 21 years old and lives in Shimla.\n",
      "BRO is 25 years old and lives in Chandigarh.\n"
     ]
    }
   ],
   "source": [
    "# Keyword Arguments\n",
    "def describe_person(name, age, city):\n",
    "    print(f\"{name} is {age} years old and lives in {city}.\")\n",
    "\n",
    "describe_person(name=\"HKS\", age=21, city=\"Shimla\")\n",
    "describe_person(city=\"Chandigarh\", name=\"BRO\", age=25)\n"
   ]
  },
  {
   "cell_type": "code",
   "execution_count": 11,
   "id": "099f3325-6e1b-4e81-b6b1-a04e270cb72c",
   "metadata": {},
   "outputs": [
    {
     "name": "stdin",
     "output_type": "stream",
     "text": [
      "Enter your email:  admin@gmail.com\n",
      "Enter password:  admin@123\n"
     ]
    },
    {
     "name": "stdout",
     "output_type": "stream",
     "text": [
      "Admin login successful.\n"
     ]
    }
   ],
   "source": [
    "def checkAdmin(email,password):\n",
    "    if(email == \"admin@gmail.com\" and password == \"admin@123\"):\n",
    "        print(\"Admin login successful.\")\n",
    "    else:\n",
    "        print(\"Not Admin!\\nTry again!\")\n",
    "\n",
    "\n",
    "email = input(\"Enter your email: \")\n",
    "password = input(\"Enter password: \")\n",
    "\n",
    "checkAdmin(email, password)"
   ]
  },
  {
   "cell_type": "code",
   "execution_count": 31,
   "id": "39b79a44-1ea6-4a62-a5f2-c5cefbb21908",
   "metadata": {},
   "outputs": [
    {
     "name": "stdout",
     "output_type": "stream",
     "text": [
      "[10, 20, 30, 40, 50, 60, 70]\n",
      "30\n",
      "[10, 20, 30, 40, 50, 60, 70, 77]\n",
      "[10, 20, 43, 30, 40, 50, 60, 70, 77]\n",
      "[10, 20, 43, 30, 40, 50, 60, 70, 77, 33, 42, 5, 6]\n",
      "6  is removed from the list!\n",
      "12\n",
      "Maximum:  77\n",
      "Minimum:  5\n",
      "Summation:  480\n",
      "[10, 20, 43, 30, 40, 60, 70, 77, 33, 42, 5]\n"
     ]
    }
   ],
   "source": [
    "# Sequence Demo\n",
    "# List\n",
    "mylist = [10,20,30,40,50,60,70]\n",
    "\n",
    "print(mylist)\n",
    "print(mylist[2])\n",
    "\n",
    "mylist.append(77)\n",
    "print(mylist)\n",
    "\n",
    "# inserting at defined index\n",
    "mylist.insert(2,43)\n",
    "print(mylist)\n",
    "\n",
    "# Inserting multiple elements\n",
    "mylist.extend([33,42,5,6])\n",
    "print(mylist)\n",
    "\n",
    "#deleting elements\n",
    "data = mylist.pop()\n",
    "print(data, \" is removed from the list!\")\n",
    "\n",
    "# checking length\n",
    "print(len(mylist))\n",
    "print(\"Maximum: \", max(mylist))\n",
    "print(\"Minimum: \", min(mylist))\n",
    "print(\"Summation: \", sum(mylist))\n",
    "\n",
    "mylist.remove(50)\n",
    "print(mylist)"
   ]
  },
  {
   "cell_type": "code",
   "execution_count": 29,
   "id": "0378142b-5be7-477e-b974-85b6dea7154f",
   "metadata": {},
   "outputs": [
    {
     "name": "stdout",
     "output_type": "stream",
     "text": [
      "True\n"
     ]
    }
   ],
   "source": [
    "# Checking membership\n",
    "print(20 in mylist)"
   ]
  },
  {
   "cell_type": "code",
   "execution_count": 41,
   "id": "83b7c9aa-7340-4c4d-84d3-b45e8c9b1343",
   "metadata": {},
   "outputs": [
    {
     "name": "stdout",
     "output_type": "stream",
     "text": [
      "Mahindra\n"
     ]
    }
   ],
   "source": [
    "# Slicing\n",
    "cars = [\"Suzuki\", \"Honda\", \"BMW\", \"Mercedes\", \"Mahindra\"]\n",
    "\n",
    "print(cars[-1])"
   ]
  },
  {
   "cell_type": "code",
   "execution_count": 42,
   "id": "1d1cff1e-85b8-463d-b14a-a7d2cba1f71e",
   "metadata": {},
   "outputs": [
    {
     "name": "stdout",
     "output_type": "stream",
     "text": [
      "['Suzuki', 'BMW', 'Mercedes', 'Mahindra']\n"
     ]
    }
   ],
   "source": [
    "# Delete using index number\n",
    "del cars[1]\n",
    "print(cars)"
   ]
  },
  {
   "cell_type": "code",
   "execution_count": 43,
   "id": "a9326949-c2a7-4335-a980-00e2d5c0b625",
   "metadata": {},
   "outputs": [
    {
     "name": "stdout",
     "output_type": "stream",
     "text": [
      "\n",
      "Using For Loop : \n",
      "Suzuki\tBMW\tMercedes\tMahindra\t\n",
      "\n",
      "Using While Loop : \n",
      "Suzuki\n",
      "BMW\n",
      "Mercedes\n",
      "Mahindra\n"
     ]
    }
   ],
   "source": [
    "# Looping lists\n",
    "print(\"\\nUsing For Loop : \")\n",
    "for car in cars:\n",
    "    print(car, end = \"\\t\")\n",
    "print(\"\\n\\nUsing While Loop : \")\n",
    "i = 0\n",
    "while i < len(cars):\n",
    "    print(cars[i])\n",
    "    i+=1"
   ]
  },
  {
   "cell_type": "code",
   "execution_count": 44,
   "id": "e579c735-e081-421c-af5f-232b52e455ca",
   "metadata": {},
   "outputs": [
    {
     "name": "stdout",
     "output_type": "stream",
     "text": [
      "['BMW', 'Mahindra', 'Mercedes', 'Suzuki']\n",
      "['Suzuki', 'Mercedes', 'Mahindra', 'BMW']\n",
      "['BMW', 'Mahindra', 'Mercedes', 'Suzuki']\n"
     ]
    }
   ],
   "source": [
    "# sorting\n",
    "\n",
    "cars.sort()\n",
    "print(cars)\n",
    "\n",
    "cars.sort(reverse=True)\n",
    "print(cars)\n",
    "\n",
    "cars.reverse()\n",
    "print(cars)"
   ]
  },
  {
   "cell_type": "code",
   "execution_count": 46,
   "id": "4e4c6a72-a48f-4660-8829-e7442df91bd7",
   "metadata": {},
   "outputs": [
    {
     "name": "stdout",
     "output_type": "stream",
     "text": [
      "['BMW', 'Mahindra', 'Mercedes', 'Suzuki']\n",
      "[1, 4, 9, 16, 25]\n"
     ]
    }
   ],
   "source": [
    "# copying list\n",
    "\n",
    "copy_cars = cars.copy()\n",
    "print(copy_cars)\n",
    "\n",
    "\n",
    "# Short way of creating list\n",
    "squares = [x ** 2 for x in range(1,6)]\n",
    "print(squares)"
   ]
  },
  {
   "cell_type": "code",
   "execution_count": 1,
   "id": "3a58b443-fe97-466a-abc2-1df755090b19",
   "metadata": {},
   "outputs": [],
   "source": [
    "# Tuple"
   ]
  },
  {
   "cell_type": "code",
   "execution_count": 11,
   "id": "d11ff6de-90c3-42a0-b32e-e635b6440d2f",
   "metadata": {},
   "outputs": [
    {
     "name": "stdout",
     "output_type": "stream",
     "text": [
      "('BMW', 'Mahindra', 'Mercedes', 'Suzuki')\n",
      "Garuna\n",
      "<class 'str'>\n",
      "('Garuna',)\n"
     ]
    }
   ],
   "source": [
    "# creating tuple\n",
    "cars = ('BMW', 'Mahindra', 'Mercedes', 'Suzuki')\n",
    "print(cars)\n",
    "\n",
    "flights = (\"Garuna\")\n",
    "print(flights)\n",
    "print(type(flights))\n",
    "\n",
    "# single element tuple (comma is neccessary!)\n",
    "flights = (\"Garuna\",)\n",
    "print(flights)"
   ]
  },
  {
   "cell_type": "code",
   "execution_count": 12,
   "id": "56c273e0-0a2b-4572-aa04-e9cbbf2d89f9",
   "metadata": {},
   "outputs": [
    {
     "name": "stdout",
     "output_type": "stream",
     "text": [
      "(10, 20, 30, 40, 77)\n"
     ]
    }
   ],
   "source": [
    "# Typecasting\n",
    "\n",
    "numbers_tuple = (10,20,30,40)\n",
    "numbers_list = list(numbers_tuple)\n",
    "\n",
    "numbers_list.append(77)\n",
    "\n",
    "numbers_tuple = tuple(numbers_list)\n",
    "print(numbers_tuple)"
   ]
  },
  {
   "cell_type": "code",
   "execution_count": 15,
   "id": "542bb6b8-084f-4b16-8755-8fc52c87bdae",
   "metadata": {},
   "outputs": [
    {
     "name": "stdout",
     "output_type": "stream",
     "text": [
      "('Garuna', 'Boing 250', '6E')\n",
      "('temp', 'temp', 'temp', 'temp', 'temp', 'temp', 'temp')\n"
     ]
    }
   ],
   "source": [
    "# Tuple concatenation\n",
    "commercialFlights = (\"Boing 250\", \"6E\")\n",
    "\n",
    "concat = flights + commercialFlights\n",
    "print(concat)\n",
    "\n",
    "new_tuple = (\"temp\",) * 7\n",
    "print(new_tuple)\n",
    "\n"
   ]
  },
  {
   "cell_type": "code",
   "execution_count": 19,
   "id": "d79f88e8-5291-48d5-8904-a90da65df200",
   "metadata": {},
   "outputs": [
    {
     "name": "stdout",
     "output_type": "stream",
     "text": [
      "{'eid': 1001, 'name': 'HKS', 'department': 'CS', 'salary': 10000000}\n",
      "Employee Id:  1001\n",
      "Employee Name:  HKS\n"
     ]
    }
   ],
   "source": [
    "# Dictionary\n",
    "\n",
    "employee = {\"eid\": 1001,\n",
    "           \"name\": \"HKS\",\n",
    "            \"department\": \"CS\",\n",
    "            \"salary\": 10000000\n",
    "           }\n",
    "\n",
    "print(employee)\n",
    "print(\"Employee Id: \", employee['eid'])\n",
    "print(\"Employee Name: \", employee.get(\"name\"))"
   ]
  },
  {
   "cell_type": "code",
   "execution_count": 21,
   "id": "6e12643a-0c35-400f-b91d-9e8176a34520",
   "metadata": {},
   "outputs": [
    {
     "name": "stdout",
     "output_type": "stream",
     "text": [
      "eid :  1001\n",
      "name :  HKS\n",
      "department :  CS\n",
      "salary :  10000000\n"
     ]
    }
   ],
   "source": [
    "# Iteration in dictionary\n",
    "employee = {\"eid\": 1001,\n",
    "           \"name\": \"HKS\",\n",
    "            \"department\": \"CS\",\n",
    "            \"salary\": 10000000\n",
    "           }\n",
    "for key in employee:\n",
    "    print(key, \": \", employee[key])"
   ]
  },
  {
   "cell_type": "code",
   "execution_count": 24,
   "id": "7d73b089-e235-4c8b-82e0-f2d6bfb805c9",
   "metadata": {},
   "outputs": [
    {
     "name": "stdout",
     "output_type": "stream",
     "text": [
      "dict_items([('eid', 1001), ('name', 'HKS'), ('department', 'CS'), ('salary', 10000000)])\n"
     ]
    }
   ],
   "source": [
    "print(employee.items())"
   ]
  },
  {
   "cell_type": "code",
   "execution_count": 26,
   "id": "50fd8598-054c-4c13-a2e9-069153b495e7",
   "metadata": {},
   "outputs": [
    {
     "name": "stdout",
     "output_type": "stream",
     "text": [
      "eid :  1001\n",
      "name :  HKS\n",
      "department :  CS\n",
      "salary :  10000000\n"
     ]
    }
   ],
   "source": [
    "for key, value in employee.items():\n",
    "    print(key, \": \", value)"
   ]
  },
  {
   "cell_type": "code",
   "execution_count": 28,
   "id": "2c86def3-9038-4dab-9c1a-9f8c92ff0f3c",
   "metadata": {},
   "outputs": [
    {
     "name": "stdout",
     "output_type": "stream",
     "text": [
      "Name is present in employee object\n"
     ]
    }
   ],
   "source": [
    "if \"name\" in employee:\n",
    "    print(\"Name is present in employee object\")"
   ]
  },
  {
   "cell_type": "code",
   "execution_count": 54,
   "id": "a1c98b61-0d84-4959-a28d-0f414e6dad9e",
   "metadata": {},
   "outputs": [
    {
     "name": "stdout",
     "output_type": "stream",
     "text": [
      "{403, 404, 500, 200, 302}\n"
     ]
    }
   ],
   "source": [
    "# Set - unique (no duplicates), unordered, mutable\n",
    "# creating set\n",
    "myset = {404, 200, 500, 302, 403, 500}\n",
    "print(myset)"
   ]
  },
  {
   "cell_type": "code",
   "execution_count": 55,
   "id": "63f2a2fb-791f-4e73-a2ae-9e60e82943b6",
   "metadata": {},
   "outputs": [
    {
     "name": "stdout",
     "output_type": "stream",
     "text": [
      "403\n",
      "404\n",
      "500\n",
      "200\n",
      "302\n"
     ]
    }
   ],
   "source": [
    "# Iteration\n",
    "for num in myset:\n",
    "    print(num)"
   ]
  },
  {
   "cell_type": "code",
   "execution_count": 56,
   "id": "e8b85555-10ba-4f21-8b24-324d842cda2b",
   "metadata": {},
   "outputs": [
    {
     "name": "stdout",
     "output_type": "stream",
     "text": [
      "{403, 404, 500, 501, 200, 302}\n",
      "{402, 403, 404, 500, 501, 200, 302, 303}\n"
     ]
    }
   ],
   "source": [
    "# adding an element\n",
    "myset.add(501)\n",
    "print(myset)\n",
    "\n",
    "# adding multiple values\n",
    "myset.update([303,402])\n",
    "print(myset)"
   ]
  },
  {
   "cell_type": "code",
   "execution_count": 57,
   "id": "6f77be56-6a29-4117-ab65-2fa59ab5c387",
   "metadata": {},
   "outputs": [
    {
     "name": "stdout",
     "output_type": "stream",
     "text": [
      "{402, 404, 500, 501, 200, 302, 303}\n",
      "{404, 500, 501, 200, 302, 303}\n"
     ]
    }
   ],
   "source": [
    "# Removal of elements\n",
    "myset.remove(403)\n",
    "print(myset)\n",
    "myset.pop()\n",
    "print(myset)"
   ]
  },
  {
   "cell_type": "code",
   "execution_count": 58,
   "id": "1f710e0e-7649-4f97-a5b0-3054ad912932",
   "metadata": {},
   "outputs": [
    {
     "name": "stdout",
     "output_type": "stream",
     "text": [
      "{404, 500, 501, 200, 303}\n"
     ]
    }
   ],
   "source": [
    "# Discarding elements\n",
    "myset.discard(302) # shows no error if the element is not present in the set, remove() shows error otherwise.\n",
    "print(myset)"
   ]
  },
  {
   "cell_type": "code",
   "execution_count": 59,
   "id": "a2f77ced-c0c7-4d2d-9c42-a6b35a00bcbd",
   "metadata": {},
   "outputs": [
    {
     "name": "stdout",
     "output_type": "stream",
     "text": [
      "set()\n"
     ]
    }
   ],
   "source": [
    "myset.clear()\n",
    "print(myset)"
   ]
  },
  {
   "cell_type": "code",
   "execution_count": 60,
   "id": "c6fc6a18-4ca8-42fc-a380-6a4d13265034",
   "metadata": {},
   "outputs": [
    {
     "name": "stdout",
     "output_type": "stream",
     "text": [
      "{1, 2, 3, 4, 5, 6, 7}\n"
     ]
    }
   ],
   "source": [
    "myset.update([1,2,3,4,5,6,7])\n",
    "print(myset)\n"
   ]
  },
  {
   "cell_type": "code",
   "execution_count": 61,
   "id": "0c63eef1-3367-44c9-991f-804f489f2009",
   "metadata": {},
   "outputs": [
    {
     "name": "stdout",
     "output_type": "stream",
     "text": [
      "{1, 2, 3, 4, 5, 6, 7, 8}\n",
      "{1, 2, 3, 4, 5, 6, 7, 8}\n",
      "{4, 5}\n",
      "{4, 5}\n",
      "{1, 2, 3}\n",
      "{1, 2, 3}\n",
      "{1, 2, 3, 6, 7, 8}\n",
      "{1, 2, 3, 6, 7, 8}\n"
     ]
    }
   ],
   "source": [
    "A = {1,2,3,4,5}\n",
    "B = {4, 5, 6, 7, 8}\n",
    "\n",
    "# Union\n",
    "print(A | B)\n",
    "print(A.union(B))\n",
    "\n",
    "# Intersection\n",
    "print(A & B)\n",
    "print(A.intersection(B))\n",
    "\n",
    "# Difference\n",
    "print(A - B)\n",
    "print(A.difference(B))\n",
    "\n",
    "# Symmetric Difference\n",
    "print(A ^ B)\n",
    "print(A.symmetric_difference(B))\n"
   ]
  },
  {
   "cell_type": "code",
   "execution_count": null,
   "id": "a112b179-85c5-4727-b55f-1dd94d1b76e0",
   "metadata": {},
   "outputs": [],
   "source": [
    "employees = {\n",
    "    \"emp1\": {\"Harikesh\": 100000},\n",
    "    \"emp2\": {\"Hariom\": 80000},\n",
    "    \"emp3\": {\"Hrishikesh\": 75000}\n",
    "}\n",
    "\n",
    "def add_employee(emp_id, name, salary):\n",
    "    employees[emp_id] = {name: salary}\n",
    "    print(f\"Added {name} with a salary of {salary}.\")\n",
    "\n",
    "def update_employee(emp_id, name, salary):\n",
    "    if emp_id in employees:\n",
    "        employees[emp_id] = {name: salary}\n",
    "        print(f\"Updated {name}'s salary to {salary}.\")\n",
    "    else:\n",
    "        print(f\"Employee ID {emp_id} not found.\")\n",
    "\n",
    "def remove_employee(emp_id):\n",
    "    if emp_id in employees:\n",
    "        del employees[emp_id]\n",
    "        print(f\"Removed employee with ID {emp_id} from the employee list.\")\n",
    "    else:\n",
    "        print(f\"Employee ID {emp_id} not found.\")\n",
    "\n",
    "def display_employees():\n",
    "    print(\"Employee Salaries:\")\n",
    "    for emp_id, details in employees.items():\n",
    "        for name, salary in details.items():\n",
    "            print(f\"{emp_id}: {name} - {salary}\")\n",
    "\n",
    "while True:\n",
    "    print(\"\\nEmployee Management System\")\n",
    "    print(\"1. Add a new employee\")\n",
    "    print(\"2. Update an employee's salary\")\n",
    "    print(\"3. Remove an employee\")\n",
    "    print(\"4. View all employees\")\n",
    "    print(\"5. Exit\")\n",
    "    choice = input(\"Enter your choice (1-5): \")\n",
    "\n",
    "    if choice == '1':\n",
    "        emp_id = input(\"Enter the employee ID: \")\n",
    "        name = input(\"Enter the employee's name: \")\n",
    "        salary = int(input(\"Enter the employee's salary: \"))\n",
    "        add_employee(emp_id, name, salary)\n",
    "    elif choice == '2':\n",
    "        emp_id = input(\"Enter the employee ID: \")\n",
    "        name = input(\"Enter the employee's name: \")\n",
    "        salary = int(input(\"Enter the new salary: \"))\n",
    "        update_employee(emp_id, name, salary)\n",
    "    elif choice == '3':\n",
    "        emp_id = input(\"Enter the employee ID to remove: \")\n",
    "        remove_employee(emp_id)\n",
    "    elif choice == '4':\n",
    "        display_employees()\n",
    "    elif choice == '5':\n",
    "        print(\"Exiting the Employee Management System. Goodbye!\")\n",
    "        break\n",
    "    else:\n",
    "        print(\"Invalid choice. Please enter a number between 1 and 5.\")"
   ]
  }
 ],
 "metadata": {
  "kernelspec": {
   "display_name": "Python 3 (ipykernel)",
   "language": "python",
   "name": "python3"
  },
  "language_info": {
   "codemirror_mode": {
    "name": "ipython",
    "version": 3
   },
   "file_extension": ".py",
   "mimetype": "text/x-python",
   "name": "python",
   "nbconvert_exporter": "python",
   "pygments_lexer": "ipython3",
   "version": "3.13.2"
  }
 },
 "nbformat": 4,
 "nbformat_minor": 5
}
